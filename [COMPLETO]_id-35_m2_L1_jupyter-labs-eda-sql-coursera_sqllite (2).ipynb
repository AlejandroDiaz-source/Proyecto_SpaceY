{
 "cells": [
  {
   "cell_type": "markdown",
   "metadata": {},
   "source": [
    "<p style=\"text-align:center\">\n",
    "    <a href=\"https://skills.network\" target=\"_blank\">\n",
    "    <img src=\"https://cf-courses-data.s3.us.cloud-object-storage.appdomain.cloud/assets/logos/SN_web_lightmode.png\" width=\"200\" alt=\"Skills Network Logo\">\n",
    "    </a>\n",
    "</p>\n",
    "\n",
    "<h1 align=center><font size = 5>Assignment: SQL Notebook for Peer Assignment</font></h1>\n",
    "\n",
    "Estimated time needed: **60** minutes.\n",
    "\n",
    "## Introduction\n",
    "Using this Python notebook you will:\n",
    "\n",
    "1.  Understand the Spacex DataSet\n",
    "2.  Load the dataset  into the corresponding table in a Db2 database\n",
    "3.  Execute SQL queries to answer assignment questions \n"
   ]
  },
  {
   "cell_type": "markdown",
   "metadata": {},
   "source": [
    "## Overview of the DataSet\n",
    "\n",
    "SpaceX has gained worldwide attention for a series of historic milestones. \n",
    "\n",
    "It is the only private company ever to return a spacecraft from low-earth orbit, which it first accomplished in December 2010.\n",
    "SpaceX advertises Falcon 9 rocket launches on its website with a cost of 62 million dollars wheras other providers cost upward of 165 million dollars each, much of the savings is because Space X can reuse the first stage. \n",
    "\n",
    "\n",
    "Therefore if we can determine if the first stage will land, we can determine the cost of a launch. \n",
    "\n",
    "This information can be used if an alternate company wants to bid against SpaceX for a rocket launch.\n",
    "\n",
    "This dataset includes a record for each payload carried during a SpaceX mission into outer space.\n"
   ]
  },
  {
   "cell_type": "markdown",
   "metadata": {},
   "source": [
    "### Download the datasets\n",
    "\n",
    "This assignment requires you to load the spacex dataset.\n",
    "\n",
    "In many cases the dataset to be analyzed is available as a .CSV (comma separated values) file, perhaps on the internet. Click on the link below to download and save the dataset (.CSV file):\n",
    "\n",
    " <a href=\"https://cf-courses-data.s3.us.cloud-object-storage.appdomain.cloud/IBM-DS0321EN-SkillsNetwork/labs/module_2/data/Spacex.csv\" target=\"_blank\">Spacex DataSet</a>\n",
    "\n"
   ]
  },
  {
   "cell_type": "code",
   "execution_count": 1,
   "metadata": {
    "tags": []
   },
   "outputs": [
    {
     "name": "stdout",
     "output_type": "stream",
     "text": [
      "Requirement already satisfied: sqlalchemy==1.3.9 in /home/jupyterlab/conda/envs/python/lib/python3.7/site-packages (1.3.9)\n"
     ]
    }
   ],
   "source": [
    "!pip install sqlalchemy==1.3.9\n"
   ]
  },
  {
   "cell_type": "markdown",
   "metadata": {},
   "source": [
    "### Connect to the database\n",
    "\n",
    "Let us first load the SQL extension and establish a connection with the database\n"
   ]
  },
  {
   "cell_type": "code",
   "execution_count": 2,
   "metadata": {
    "tags": []
   },
   "outputs": [],
   "source": [
    "%load_ext sql"
   ]
  },
  {
   "cell_type": "code",
   "execution_count": 3,
   "metadata": {
    "tags": []
   },
   "outputs": [],
   "source": [
    "import csv, sqlite3\n",
    "\n",
    "con = sqlite3.connect(\"my_data1.db\")\n",
    "cur = con.cursor()"
   ]
  },
  {
   "cell_type": "code",
   "execution_count": 4,
   "metadata": {
    "tags": []
   },
   "outputs": [],
   "source": [
    "!pip install -q pandas==1.1.5"
   ]
  },
  {
   "cell_type": "code",
   "execution_count": 5,
   "metadata": {
    "tags": []
   },
   "outputs": [
    {
     "data": {
      "text/plain": [
       "'Connected: @my_data1.db'"
      ]
     },
     "execution_count": 5,
     "metadata": {},
     "output_type": "execute_result"
    }
   ],
   "source": [
    "%sql sqlite:///my_data1.db"
   ]
  },
  {
   "cell_type": "code",
   "execution_count": 6,
   "metadata": {
    "tags": []
   },
   "outputs": [
    {
     "name": "stderr",
     "output_type": "stream",
     "text": [
      "/home/jupyterlab/conda/envs/python/lib/python3.7/site-packages/pandas/core/generic.py:2615: UserWarning: The spaces in these column names will not be changed. In pandas versions < 0.14, spaces were converted to underscores.\n",
      "  method=method,\n"
     ]
    }
   ],
   "source": [
    "import pandas as pd\n",
    "df = pd.read_csv(\"https://cf-courses-data.s3.us.cloud-object-storage.appdomain.cloud/IBM-DS0321EN-SkillsNetwork/labs/module_2/data/Spacex.csv\")\n",
    "df.to_sql(\"SPACEXTBL\", con, if_exists='replace', index=False,method=\"multi\")"
   ]
  },
  {
   "cell_type": "markdown",
   "metadata": {},
   "source": [
    "**Note:This below code is added to remove blank rows from table**\n"
   ]
  },
  {
   "cell_type": "code",
   "execution_count": 7,
   "metadata": {
    "tags": []
   },
   "outputs": [
    {
     "name": "stdout",
     "output_type": "stream",
     "text": [
      " * sqlite:///my_data1.db\n",
      "Done.\n"
     ]
    },
    {
     "data": {
      "text/plain": [
       "[]"
      ]
     },
     "execution_count": 7,
     "metadata": {},
     "output_type": "execute_result"
    }
   ],
   "source": [
    "%sql create table SPACEXTABLE as select * from SPACEXTBL where Date is not null"
   ]
  },
  {
   "cell_type": "markdown",
   "metadata": {},
   "source": [
    "## Tasks\n",
    "\n",
    "Now write and execute SQL queries to solve the assignment tasks.\n",
    "\n",
    "**Note: If the column names are in mixed case enclose it in double quotes\n",
    "   For Example \"Landing_Outcome\"**\n",
    "\n",
    "### Task 1\n",
    "\n",
    "\n",
    "\n",
    "\n",
    "##### Display the names of the unique launch sites  in the space mission\n"
   ]
  },
  {
   "cell_type": "code",
   "execution_count": 8,
   "metadata": {
    "tags": []
   },
   "outputs": [
    {
     "name": "stdout",
     "output_type": "stream",
     "text": [
      "CCAFS LC-40\n",
      "VAFB SLC-4E\n",
      "KSC LC-39A\n",
      "CCAFS SLC-40\n"
     ]
    }
   ],
   "source": [
    "# Establecer conexión a la base de datos\n",
    "conn = sqlite3.connect('my_data1.db')\n",
    "cursor = conn.cursor()\n",
    "\n",
    "# Ejecutar la consulta SQL\n",
    "query = \"SELECT DISTINCT Launch_Site FROM SPACEXTABLE;\"\n",
    "cursor.execute(query)\n",
    "\n",
    "# Obtener los resultados\n",
    "results = cursor.fetchall()\n",
    "\n",
    "# Imprimir los resultados\n",
    "for row in results:\n",
    "    print(row[0])\n",
    "\n",
    "# Cerrar la conexión\n",
    "conn.close()"
   ]
  },
  {
   "cell_type": "markdown",
   "metadata": {},
   "source": [
    "\n",
    "### Task 2\n",
    "\n",
    "\n",
    "#####  Display 5 records where launch sites begin with the string 'CCA' \n"
   ]
  },
  {
   "cell_type": "code",
   "execution_count": 9,
   "metadata": {
    "tags": []
   },
   "outputs": [
    {
     "name": "stdout",
     "output_type": "stream",
     "text": [
      "('2010-04-06', '18:45:00', 'F9 v1.0  B0003', 'CCAFS LC-40', 'Dragon Spacecraft Qualification Unit', 0, 'LEO', 'SpaceX', 'Success', 'Failure (parachute)')\n",
      "('2010-08-12', '15:43:00', 'F9 v1.0  B0004', 'CCAFS LC-40', 'Dragon demo flight C1, two CubeSats, barrel of Brouere cheese', 0, 'LEO (ISS)', 'NASA (COTS) NRO', 'Success', 'Failure (parachute)')\n",
      "('2012-05-22', '07:44:00', 'F9 v1.0  B0005', 'CCAFS LC-40', 'Dragon demo flight C2', 525, 'LEO (ISS)', 'NASA (COTS)', 'Success', 'No attempt')\n",
      "('2012-08-10', '00:35:00', 'F9 v1.0  B0006', 'CCAFS LC-40', 'SpaceX CRS-1', 500, 'LEO (ISS)', 'NASA (CRS)', 'Success', 'No attempt')\n",
      "('2013-01-03', '15:10:00', 'F9 v1.0  B0007', 'CCAFS LC-40', 'SpaceX CRS-2', 677, 'LEO (ISS)', 'NASA (CRS)', 'Success', 'No attempt')\n"
     ]
    }
   ],
   "source": [
    "# Establecer conexión a la base de datos\n",
    "conn = sqlite3.connect('my_data1.db')\n",
    "cursor = conn.cursor()\n",
    "\n",
    "# Ejecutar la consulta SQL con filtro\n",
    "query = \"SELECT * FROM SPACEXTABLE WHERE Launch_Site LIKE 'CCA%' LIMIT 5;\"\n",
    "cursor.execute(query)\n",
    "\n",
    "# Obtener los resultados\n",
    "results = cursor.fetchall()\n",
    "\n",
    "# Imprimir los resultados\n",
    "for row in results:\n",
    "    print(row)\n",
    "\n",
    "# Cerrar la conexión\n",
    "conn.close()"
   ]
  },
  {
   "cell_type": "markdown",
   "metadata": {},
   "source": [
    "### Task 3\n",
    "\n",
    "\n",
    "\n",
    "\n",
    "##### Display the total payload mass carried by boosters launched by NASA (CRS)\n"
   ]
  },
  {
   "cell_type": "code",
   "execution_count": 10,
   "metadata": {
    "tags": []
   },
   "outputs": [
    {
     "name": "stdout",
     "output_type": "stream",
     "text": [
      "Masa total de carga útil transportada por propulsores CRS de NASA: 45596\n"
     ]
    }
   ],
   "source": [
    "# Establecer conexión a la base de datos\n",
    "conn = sqlite3.connect('my_data1.db')\n",
    "cursor = conn.cursor()\n",
    "\n",
    "# Ejecutar la consulta SQL con filtro \n",
    "query = \"SELECT SUM(PAYLOAD_MASS__KG_) FROM SPACEXTABLE WHERE Customer = 'NASA (CRS)';\"\n",
    "cursor.execute(query)\n",
    "\n",
    "# Obtener el resultado\n",
    "total_payload_mass = cursor.fetchone()[0]\n",
    "\n",
    "# Imprimir el resultado\n",
    "print(\"Masa total de carga útil transportada por propulsores CRS de NASA:\", total_payload_mass)\n",
    "\n",
    "# Cerrar la conexión\n",
    "conn.close()"
   ]
  },
  {
   "cell_type": "markdown",
   "metadata": {},
   "source": [
    "### Task 4\n",
    "\n",
    "\n",
    "\n",
    "\n",
    "##### Display average payload mass carried by booster version F9 v1.1\n"
   ]
  },
  {
   "cell_type": "code",
   "execution_count": 11,
   "metadata": {
    "tags": []
   },
   "outputs": [
    {
     "name": "stdout",
     "output_type": "stream",
     "text": [
      "Masa promedio de carga útil transportada por la versión de refuerzo F9 v1.1: 2928.4\n"
     ]
    }
   ],
   "source": [
    "conn = sqlite3.connect('my_data1.db')\n",
    "cursor = conn.cursor()\n",
    "\n",
    "# Ejecutar la consulta SQL con filtro y cálculo de promedio\n",
    "query = \"SELECT AVG(PAYLOAD_MASS__KG_) FROM SPACEXTABLE WHERE Booster_Version = 'F9 v1.1';\"\n",
    "cursor.execute(query)\n",
    "\n",
    "# Obtener el resultado\n",
    "average_payload_mass = cursor.fetchone()[0]\n",
    "\n",
    "# Imprimir el resultado\n",
    "print(\"Masa promedio de carga útil transportada por la versión de refuerzo F9 v1.1:\", average_payload_mass)\n",
    "\n",
    "# Cerrar la conexión\n",
    "conn.close()"
   ]
  },
  {
   "cell_type": "markdown",
   "metadata": {},
   "source": [
    "### Task 5\n",
    "\n",
    "##### List the date when the first succesful landing outcome in ground pad was acheived.\n",
    "\n",
    "\n",
    "_Hint:Use min function_ \n"
   ]
  },
  {
   "cell_type": "code",
   "execution_count": 12,
   "metadata": {
    "tags": []
   },
   "outputs": [
    {
     "name": "stdout",
     "output_type": "stream",
     "text": [
      "Fecha del primer aterrizaje exitoso en una plataforma de tierra: 2015-12-22\n"
     ]
    }
   ],
   "source": [
    "# Establecer conexión a la base de datos\n",
    "conn = sqlite3.connect('my_data1.db')\n",
    "cursor = conn.cursor()\n",
    "\n",
    "# Ejecutar la consulta SQL para obtener la fecha del primer aterrizaje exitoso en una plataforma de tierra\n",
    "query = \"SELECT MIN(Date) FROM SPACEXTABLE WHERE Mission_Outcome = 'Success' AND Landing_Outcome = 'Success (ground pad)';\"\n",
    "cursor.execute(query)\n",
    "\n",
    "# Obtener el resultado\n",
    "first_successful_landing_date = cursor.fetchone()[0]\n",
    "\n",
    "# Imprimir el resultado\n",
    "print(\"Fecha del primer aterrizaje exitoso en una plataforma de tierra:\", first_successful_landing_date)\n",
    "\n",
    "# Cerrar la conexión\n",
    "conn.close()"
   ]
  },
  {
   "cell_type": "markdown",
   "metadata": {},
   "source": [
    "### Task 6\n",
    "\n",
    "##### List the names of the boosters which have success in drone ship and have payload mass greater than 4000 but less than 6000\n"
   ]
  },
  {
   "cell_type": "code",
   "execution_count": 13,
   "metadata": {
    "tags": []
   },
   "outputs": [
    {
     "name": "stdout",
     "output_type": "stream",
     "text": [
      "Nombres de los propulsores exitosos:\n",
      "F9 FT B1022\n",
      "F9 FT B1026\n",
      "F9 FT  B1021.2\n",
      "F9 FT  B1031.2\n"
     ]
    }
   ],
   "source": [
    "# Establecer conexión a la base de datos\n",
    "conn = sqlite3.connect('my_data1.db')\n",
    "cursor = conn.cursor()\n",
    "\n",
    "# Ejecutar la consulta SQL para obtener los nombres de los propulsores exitosos\n",
    "query = \"SELECT DISTINCT Booster_Version FROM SPACEXTABLE WHERE Landing_Outcome = 'Success (drone ship)' AND PAYLOAD_MASS__KG_ BETWEEN 4000 AND 6000;\"\n",
    "cursor.execute(query)\n",
    "\n",
    "# Obtener los resultados\n",
    "successful_boosters = cursor.fetchall()\n",
    "\n",
    "# Imprimir los nombres de los propulsores exitosos\n",
    "print(\"Nombres de los propulsores exitosos:\")\n",
    "for booster in successful_boosters:\n",
    "    print(booster[0])\n",
    "\n",
    "# Cerrar la conexión\n",
    "conn.close()"
   ]
  },
  {
   "cell_type": "markdown",
   "metadata": {},
   "source": [
    "### Task 7\n",
    "\n",
    "\n",
    "\n",
    "\n",
    "##### List the total number of successful and failure mission outcomes\n"
   ]
  },
  {
   "cell_type": "code",
   "execution_count": 14,
   "metadata": {
    "tags": []
   },
   "outputs": [
    {
     "name": "stdout",
     "output_type": "stream",
     "text": [
      "Número total de resultados de misión exitosos: 100\n",
      "Número total de resultados de misión fallidos: 1\n"
     ]
    }
   ],
   "source": [
    "\n",
    "# Establecer conexión a la base de datos\n",
    "conn = sqlite3.connect('my_data1.db')\n",
    "cursor = conn.cursor()\n",
    "\n",
    "# Consulta SQL para contar el número de resultados de misión exitosos\n",
    "query_success = \"SELECT COUNT(*) FROM SPACEXTABLE WHERE Mission_Outcome like 'Success%' ;\"\n",
    "cursor.execute(query_success)\n",
    "total_success = cursor.fetchone()[0]\n",
    "\n",
    "# Consulta SQL para contar el número de resultados de misión fallidos\n",
    "query_failure = \"SELECT COUNT(*) FROM SPACEXTABLE WHERE Mission_Outcome like 'Failure%';\"\n",
    "cursor.execute(query_failure)\n",
    "total_failure = cursor.fetchone()[0]\n",
    "\n",
    "# Imprimir los resultados\n",
    "print(\"Número total de resultados de misión exitosos:\", total_success)\n",
    "print(\"Número total de resultados de misión fallidos:\", total_failure)\n",
    "\n",
    "# Cerrar la conexión\n",
    "conn.close()"
   ]
  },
  {
   "cell_type": "markdown",
   "metadata": {},
   "source": [
    "### Task 8\n",
    "\n",
    "\n",
    "\n",
    "##### List the   names of the booster_versions which have carried the maximum payload mass. Use a subquery\n"
   ]
  },
  {
   "cell_type": "code",
   "execution_count": 15,
   "metadata": {
    "tags": []
   },
   "outputs": [
    {
     "name": "stdout",
     "output_type": "stream",
     "text": [
      "Nombres de las booster_versions con la masa máxima de carga útil:\n",
      "F9 B5 B1048.4\n",
      "F9 B5 B1049.4\n",
      "F9 B5 B1051.3\n",
      "F9 B5 B1056.4\n",
      "F9 B5 B1048.5\n",
      "F9 B5 B1051.4\n",
      "F9 B5 B1049.5\n",
      "F9 B5 B1060.2 \n",
      "F9 B5 B1058.3 \n",
      "F9 B5 B1051.6\n",
      "F9 B5 B1060.3\n",
      "F9 B5 B1049.7 \n"
     ]
    }
   ],
   "source": [
    "# Establecer conexión a la base de datos\n",
    "conn = sqlite3.connect('my_data1.db')\n",
    "cursor = conn.cursor()\n",
    "\n",
    "# Consulta SQL con subconsulta para obtener las booster_versions con la masa máxima de carga útil\n",
    "query = \"SELECT DISTINCT Booster_Version FROM SPACEXTABLE WHERE PAYLOAD_MASS__KG_ = (SELECT MAX(PAYLOAD_MASS__KG_) FROM SPACEXTABLE);\"\n",
    "cursor.execute(query)\n",
    "\n",
    "# Obtener los resultados\n",
    "max_payload_boosters = cursor.fetchall()\n",
    "\n",
    "# Imprimir los nombres de las booster_versions con la masa máxima de carga útil\n",
    "print(\"Nombres de las booster_versions con la masa máxima de carga útil:\")\n",
    "for booster in max_payload_boosters:\n",
    "    print(booster[0])\n",
    "\n",
    "# Cerrar la conexión\n",
    "conn.close()"
   ]
  },
  {
   "cell_type": "markdown",
   "metadata": {},
   "source": [
    "### Task 9\n",
    "\n",
    "\n",
    "##### List the records which will display the month names, failure landing_outcomes in drone ship ,booster versions, launch_site for the months in year 2015.\n",
    "\n",
    "**Note: SQLLite does not support monthnames. So you need to use  substr(Date, 4, 2) as month to get the months and substr(Date,7,4)='2015' for year.**\n"
   ]
  },
  {
   "cell_type": "code",
   "execution_count": 28,
   "metadata": {
    "tags": []
   },
   "outputs": [
    {
     "name": "stdout",
     "output_type": "stream",
     "text": [
      "[('Octubre', 'Failure (drone ship)', 'F9 v1.1 B1012', 'CCAFS LC-40'), ('Abril', 'Failure (drone ship)', 'F9 v1.1 B1015', 'CCAFS LC-40')]\n",
      "Mes: Octubre\n",
      "Landing Outcome: Failure (drone ship)\n",
      "Booster Version: F9 v1.1 B1012\n",
      "Launch Site: CCAFS LC-40\n",
      "\n",
      "Mes: Abril\n",
      "Landing Outcome: Failure (drone ship)\n",
      "Booster Version: F9 v1.1 B1015\n",
      "Launch Site: CCAFS LC-40\n",
      "\n"
     ]
    }
   ],
   "source": [
    "# Establecer conexión a la base de datos\n",
    "conn = sqlite3.connect('my_data1.db')\n",
    "cursor = conn.cursor()\n",
    "\n",
    "# Consulta SQL\n",
    "query = \"\"\"\n",
    "    SELECT CASE\n",
    "        WHEN substr(Date, 6, 2) = '01' THEN 'Enero'\n",
    "        WHEN substr(Date, 6, 2) = '02' THEN 'Febrero'\n",
    "        WHEN substr(Date, 6, 2) = '03' THEN 'Marzo'\n",
    "        WHEN substr(Date, 6, 2) = '04' THEN 'Abril'\n",
    "        WHEN substr(Date, 6, 2) = '05' THEN 'Mayo'\n",
    "        WHEN substr(Date, 6, 2) = '06' THEN 'Junio'\n",
    "        WHEN substr(Date, 6, 2) = '07' THEN 'Julio'\n",
    "        WHEN substr(Date, 6, 2) = '08' THEN 'Agosto'\n",
    "        WHEN substr(Date, 6, 2) = '09' THEN 'Septiembre'\n",
    "        WHEN substr(Date, 6, 2) = '10' THEN 'Octubre'\n",
    "        WHEN substr(Date, 6, 2) = '11' THEN 'Noviembre'\n",
    "        WHEN substr(Date, 6, 2) = '12' THEN 'Diciembre'\n",
    "    END AS Mes,\n",
    "    Landing_Outcome,\n",
    "    Booster_Version,\n",
    "    Launch_Site\n",
    "    FROM SPACEXTABLE\n",
    "    WHERE substr(Date,1,4)='2015'\n",
    "    AND Landing_Outcome = 'Failure (drone ship)';\n",
    "\"\"\"\n",
    "\n",
    "    # Ejecutar la consulta SQL\n",
    "cursor.execute(query)\n",
    "    \n",
    "# Obtener los resultados\n",
    "results = cursor.fetchall()\n",
    "print(results)\n",
    "# Imprimir los resultados\n",
    "for row in results:\n",
    "    print(\"Mes:\", row[0])\n",
    "    print(\"Landing Outcome:\", row[1])\n",
    "    print(\"Booster Version:\", row[2])\n",
    "    print(\"Launch Site:\", row[3])\n",
    "    print()\n",
    "\n",
    "# Cerrar la conexión\n",
    "conn.close()\n"
   ]
  },
  {
   "cell_type": "markdown",
   "metadata": {},
   "source": [
    "### Task 10\n",
    "\n",
    "\n",
    "\n",
    "\n",
    "##### Rank the count of landing outcomes (such as Failure (drone ship) or Success (ground pad)) between the date 2010-06-04 and 2017-03-20, in descending order.\n"
   ]
  },
  {
   "cell_type": "code",
   "execution_count": 31,
   "metadata": {
    "tags": []
   },
   "outputs": [
    {
     "name": "stdout",
     "output_type": "stream",
     "text": [
      "Landing Outcome: Success (ground pad)\n",
      "Count: 5\n",
      "\n",
      "Landing Outcome: Failure (drone ship)\n",
      "Count: 5\n",
      "\n"
     ]
    }
   ],
   "source": [
    "# Establecer conexión a la base de datos\n",
    "conn = sqlite3.connect('my_data1.db')\n",
    "cursor = conn.cursor()\n",
    "\n",
    "# Consulta SQL\n",
    "query = \"\"\"\n",
    "    SELECT Landing_Outcome, COUNT(*) AS Count\n",
    "    FROM SPACEXTABLE\n",
    "    WHERE Date BETWEEN '2010-06-04' AND '2017-03-20'\n",
    "      AND (Landing_Outcome = 'Failure (drone ship)' OR Landing_Outcome = 'Success (ground pad)')\n",
    "    GROUP BY Landing_Outcome\n",
    "    ORDER BY Count DESC;\n",
    "\"\"\"\n",
    "# Ejecutar la consulta SQL\n",
    "cursor.execute(query)\n",
    "\n",
    "# Obtener los resultados\n",
    "results = cursor.fetchall()\n",
    "\n",
    "# Imprimir los resultados\n",
    "for row in results:\n",
    "    print(\"Landing Outcome:\", row[0])\n",
    "    print(\"Count:\", row[1])\n",
    "    print()\n",
    "\n",
    "# Cerrar la conexión\n",
    "conn.close()\n"
   ]
  },
  {
   "cell_type": "markdown",
   "metadata": {},
   "source": [
    "### Reference Links\n",
    "\n",
    "* <a href =\"https://cf-courses-data.s3.us.cloud-object-storage.appdomain.cloud/IBMDeveloperSkillsNetwork-DB0201EN-SkillsNetwork/labs/Labs_Coursera_V5/labs/Lab%20-%20String%20Patterns%20-%20Sorting%20-%20Grouping/instructional-labs.md.html?origin=www.coursera.org\">Hands-on Lab : String Patterns, Sorting and Grouping</a>  \n",
    "\n",
    "*  <a  href=\"https://cf-courses-data.s3.us.cloud-object-storage.appdomain.cloud/IBMDeveloperSkillsNetwork-DB0201EN-SkillsNetwork/labs/Labs_Coursera_V5/labs/Lab%20-%20Built-in%20functions%20/Hands-on_Lab__Built-in_Functions.md.html?origin=www.coursera.org\">Hands-on Lab: Built-in functions</a>\n",
    "\n",
    "*  <a  href=\"https://cf-courses-data.s3.us.cloud-object-storage.appdomain.cloud/IBMDeveloperSkillsNetwork-DB0201EN-SkillsNetwork/labs/Labs_Coursera_V5/labs/Lab%20-%20Sub-queries%20and%20Nested%20SELECTs%20/instructional-labs.md.html?origin=www.coursera.org\">Hands-on Lab : Sub-queries and Nested SELECT Statements</a>\n",
    "\n",
    "*   <a href=\"https://cf-courses-data.s3.us.cloud-object-storage.appdomain.cloud/IBMDeveloperSkillsNetwork-DB0201EN-SkillsNetwork/labs/Module%205/DB0201EN-Week3-1-3-SQLmagic.ipynb\">Hands-on Tutorial: Accessing Databases with SQL magic</a>\n",
    "\n",
    "*  <a href= \"https://cf-courses-data.s3.us.cloud-object-storage.appdomain.cloud/IBMDeveloperSkillsNetwork-DB0201EN-SkillsNetwork/labs/Module%205/DB0201EN-Week3-1-4-Analyzing.ipynb\">Hands-on Lab: Analyzing a real World Data Set</a>\n",
    "\n",
    "\n"
   ]
  },
  {
   "cell_type": "markdown",
   "metadata": {},
   "source": [
    "## Author(s)\n",
    "\n",
    "<h4> Lakshmi Holla </h4>\n"
   ]
  },
  {
   "cell_type": "markdown",
   "metadata": {},
   "source": [
    "## Other Contributors\n",
    "\n",
    "<h4> Rav Ahuja </h4>\n"
   ]
  },
  {
   "cell_type": "markdown",
   "metadata": {},
   "source": [
    "## Change log\n",
    "| Date | Version | Changed by | Change Description |\n",
    "|------|--------|--------|---------|\n",
    "| 2021-07-09 | 0.2 |Lakshmi Holla | Changes made in magic sql|\n",
    "| 2021-05-20 | 0.1 |Lakshmi Holla | Created Initial Version |\n"
   ]
  },
  {
   "cell_type": "markdown",
   "metadata": {},
   "source": [
    "## <h3 align=\"center\"> © IBM Corporation 2021. All rights reserved. <h3/>\n"
   ]
  }
 ],
 "metadata": {
  "kernelspec": {
   "display_name": "Python",
   "language": "python",
   "name": "conda-env-python-py"
  },
  "language_info": {
   "codemirror_mode": {
    "name": "ipython",
    "version": 3
   },
   "file_extension": ".py",
   "mimetype": "text/x-python",
   "name": "python",
   "nbconvert_exporter": "python",
   "pygments_lexer": "ipython3",
   "version": "3.7.12"
  }
 },
 "nbformat": 4,
 "nbformat_minor": 4
}
